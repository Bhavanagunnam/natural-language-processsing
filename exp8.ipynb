{
  "nbformat": 4,
  "nbformat_minor": 0,
  "metadata": {
    "colab": {
      "provenance": [],
      "authorship_tag": "ABX9TyO6KUMhJ+w9bJOnsK+F/MZC",
      "include_colab_link": true
    },
    "kernelspec": {
      "name": "python3",
      "display_name": "Python 3"
    },
    "language_info": {
      "name": "python"
    }
  },
  "cells": [
    {
      "cell_type": "markdown",
      "metadata": {
        "id": "view-in-github",
        "colab_type": "text"
      },
      "source": [
        "<a href=\"https://colab.research.google.com/github/Bhavanagunnam/natural-language-processsing/blob/main/exp8.ipynb\" target=\"_parent\"><img src=\"https://colab.research.google.com/assets/colab-badge.svg\" alt=\"Open In Colab\"/></a>"
      ]
    },
    {
      "cell_type": "code",
      "execution_count": 1,
      "metadata": {
        "colab": {
          "base_uri": "https://localhost:8080/"
        },
        "id": "hJ5XhihzsWbA",
        "outputId": "f9330aa3-4743-425a-ae49-7889a62b84d6"
      },
      "outputs": [
        {
          "output_type": "stream",
          "name": "stderr",
          "text": [
            "[nltk_data] Downloading package punkt to /root/nltk_data...\n",
            "[nltk_data]   Unzipping tokenizers/punkt.zip.\n"
          ]
        },
        {
          "output_type": "stream",
          "name": "stdout",
          "text": [
            "pos\n",
            "neg\n",
            "The beer was amazing. But the hangover was horrible.My boss was not pleased.\n",
            "neg\n",
            "The beer was amazing.\n",
            "pos\n",
            "But the hangover was horrible.My boss was not pleased.\n",
            "neg\n",
            "Accuracy: 0.8333333333333334\n",
            "Most Informative Features\n",
            "          contains(this) = True              neg : pos    =      2.3 : 1.0\n",
            "          contains(this) = False             pos : neg    =      1.8 : 1.0\n",
            "          contains(This) = False             neg : pos    =      1.6 : 1.0\n",
            "            contains(an) = False             neg : pos    =      1.6 : 1.0\n",
            "             contains(I) = False             pos : neg    =      1.4 : 1.0\n"
          ]
        }
      ],
      "source": [
        "import nltk\n",
        "nltk.download('punkt')\n",
        "from textblob.classifiers import NaiveBayesClassifier\n",
        "from textblob import TextBlob\n",
        "train = [\n",
        " ('I love this sandwich.', 'pos'),\n",
        " ('This is an amazing place!', 'pos'),\n",
        " ('I feel very good about these beers.', 'pos'),\n",
        " ('This is my best work.', 'pos'),\n",
        " (\"What an awesome view\", 'pos'),\n",
        " ('I do not like this restaurant', 'neg'),\n",
        " ('I am tired of this stuff.', 'neg'),\n",
        " (\"I can't deal with this\", 'neg'),\n",
        " ('He is my sworn enemy!', 'neg'),\n",
        " ('My boss is horrible.', 'neg')\n",
        "]\n",
        "test = [\n",
        " ('The beer was good.', 'pos'),\n",
        " ('I do not enjoy my job', 'neg'),\n",
        " (\"I ain't feeling dandy today.\", 'neg'),\n",
        " (\"I feel amazing!\", 'pos'),\n",
        " ('Gary is a friend of mine.', 'pos'),\n",
        " (\"I can't believe I'm doing this.\", 'neg')\n",
        "]\n",
        "cl = NaiveBayesClassifier(train)\n",
        "print(cl.classify(\"Their burgers are amazing.\"))\n",
        "print(cl.classify(\"I don't like their pizza.\"))\n",
        "# Classify a TextBlob\n",
        "blob = TextBlob(\"The beer was amazing. But the hangover was horrible.\" \"My boss was not pleased.\", classifier=cl)\n",
        "print(blob)\n",
        "print(blob.classify())\n",
        "for sentence in blob.sentences:\n",
        " print(sentence)\n",
        " print(sentence.classify())\n",
        "print(\"Accuracy: {0}\".format(cl.accuracy(test)))\n",
        "cl.show_informative_features(5)\n",
        "\n"
      ]
    },
    {
      "cell_type": "code",
      "source": [],
      "metadata": {
        "id": "V6-CQS5wsi7W"
      },
      "execution_count": null,
      "outputs": []
    }
  ]
}