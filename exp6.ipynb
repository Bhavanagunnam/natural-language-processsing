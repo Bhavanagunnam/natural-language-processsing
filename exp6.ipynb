{
  "nbformat": 4,
  "nbformat_minor": 0,
  "metadata": {
    "colab": {
      "provenance": [],
      "authorship_tag": "ABX9TyODrZ2uI5Ias8mPRFLu0zmZ",
      "include_colab_link": true
    },
    "kernelspec": {
      "name": "python3",
      "display_name": "Python 3"
    },
    "language_info": {
      "name": "python"
    }
  },
  "cells": [
    {
      "cell_type": "markdown",
      "metadata": {
        "id": "view-in-github",
        "colab_type": "text"
      },
      "source": [
        "<a href=\"https://colab.research.google.com/github/Bhavanagunnam/natural-language-processsing/blob/main/exp6.ipynb\" target=\"_parent\"><img src=\"https://colab.research.google.com/assets/colab-badge.svg\" alt=\"Open In Colab\"/></a>"
      ]
    },
    {
      "cell_type": "code",
      "execution_count": null,
      "metadata": {
        "colab": {
          "base_uri": "https://localhost:8080/"
        },
        "id": "6OsN6Wa_gIfB",
        "outputId": "08ea8be0-4cd2-4ceb-cc58-6b2ed46d206a"
      },
      "outputs": [
        {
          "output_type": "stream",
          "name": "stdout",
          "text": [
            "Number of words in the corpus  14\n",
            "The words in the corpus: \n",
            "  {'data', 'science', 'scientists', 'most', 'courses', 'this', 'of', 'one', 'the', 'important', 'analyze', 'is', 'fields', 'best'}\n"
          ]
        }
      ],
      "source": [
        "import pandas as pd\n",
        "import numpy as np\n",
        "corpus=['data science is one of the most important fields of science','this is one of the best data science courses','data scientists analyze data']\n",
        "words_set=set()\n",
        "for doc in corpus:\n",
        "  words=doc.split(' ')\n",
        "  words_set=words_set.union(set(words))\n",
        "print('Number of words in the corpus ',len(words_set))\n",
        "print('The words in the corpus: \\n ',words_set)\n"
      ]
    },
    {
      "cell_type": "code",
      "source": [
        "n_docs=len(corpus)\n",
        "n_words_set=len(words_set)\n",
        "df_tf=pd.DataFrame(np.zeros((n_docs,n_words_set)),columns=list(words_set))\n",
        "for i in range(n_docs):\n",
        "  words=corpus[i].split(' ')\n",
        "  for w in words:\n",
        "    df_tf[w][i]=df_tf[w][i]+(1/len(words))\n",
        "print(df_tf)\n"
      ],
      "metadata": {
        "colab": {
          "base_uri": "https://localhost:8080/"
        },
        "id": "f-l7Ajg2hB4h",
        "outputId": "0ee8a8e2-2fc9-473f-bb9d-4062a4ad5795"
      },
      "execution_count": null,
      "outputs": [
        {
          "output_type": "stream",
          "name": "stdout",
          "text": [
            "       data   science  scientists      most   courses      this        of  \\\n",
            "0  0.090909  0.181818        0.00  0.090909  0.000000  0.000000  0.181818   \n",
            "1  0.111111  0.111111        0.00  0.000000  0.111111  0.111111  0.111111   \n",
            "2  0.500000  0.000000        0.25  0.000000  0.000000  0.000000  0.000000   \n",
            "\n",
            "        one       the  important  analyze        is    fields      best  \n",
            "0  0.090909  0.090909   0.090909     0.00  0.090909  0.090909  0.000000  \n",
            "1  0.111111  0.111111   0.000000     0.00  0.111111  0.000000  0.111111  \n",
            "2  0.000000  0.000000   0.000000     0.25  0.000000  0.000000  0.000000  \n"
          ]
        }
      ]
    },
    {
      "cell_type": "code",
      "source": [
        "print('IDF OF: ')\n",
        "idf={}\n",
        "for w in words_set:\n",
        "  k=0\n",
        "  for i in range(n_docs):\n",
        "    if w in corpus[i].split():\n",
        "      k=k+1\n",
        "  idf[w]=np.log10(n_docs/k)\n",
        "  print(f'{w:>15}:{idf[w]:>10}')\n"
      ],
      "metadata": {
        "colab": {
          "base_uri": "https://localhost:8080/"
        },
        "id": "IzunWF-1hNuy",
        "outputId": "c8b9bea3-5287-42bd-dac5-b4fcf3f482cb"
      },
      "execution_count": null,
      "outputs": [
        {
          "output_type": "stream",
          "name": "stdout",
          "text": [
            "IDF OF: \n",
            "           data:       0.0\n",
            "        science:0.17609125905568124\n",
            "     scientists:0.47712125471966244\n",
            "           most:0.47712125471966244\n",
            "        courses:0.47712125471966244\n",
            "           this:0.47712125471966244\n",
            "             of:0.17609125905568124\n",
            "            one:0.17609125905568124\n",
            "            the:0.17609125905568124\n",
            "      important:0.47712125471966244\n",
            "        analyze:0.47712125471966244\n",
            "             is:0.17609125905568124\n",
            "         fields:0.47712125471966244\n",
            "           best:0.47712125471966244\n"
          ]
        }
      ]
    },
    {
      "cell_type": "code",
      "source": [
        "n_docs=len(corpus)\n",
        "df_tf_idf=df_tf.copy()\n",
        "for w in words_set:\n",
        "  for i in range(n_docs):\n",
        "    df_tf_idf[w][i]=df_tf[w][i]*idf[w]\n",
        "print(df_tf_idf)\n"
      ],
      "metadata": {
        "colab": {
          "base_uri": "https://localhost:8080/"
        },
        "id": "wBPWTTnzhUBM",
        "outputId": "1de74877-7527-445a-cc64-716defec9a1f"
      },
      "execution_count": null,
      "outputs": [
        {
          "output_type": "stream",
          "name": "stdout",
          "text": [
            "   data   science  scientists      most   courses      this        of  \\\n",
            "0   0.0  0.032017     0.00000  0.043375  0.000000  0.000000  0.032017   \n",
            "1   0.0  0.019566     0.00000  0.000000  0.053013  0.053013  0.019566   \n",
            "2   0.0  0.000000     0.11928  0.000000  0.000000  0.000000  0.000000   \n",
            "\n",
            "        one       the  important  analyze        is    fields      best  \n",
            "0  0.016008  0.016008   0.043375  0.00000  0.016008  0.043375  0.000000  \n",
            "1  0.019566  0.019566   0.000000  0.00000  0.019566  0.000000  0.053013  \n",
            "2  0.000000  0.000000   0.000000  0.11928  0.000000  0.000000  0.000000  \n"
          ]
        }
      ]
    }
  ]
}